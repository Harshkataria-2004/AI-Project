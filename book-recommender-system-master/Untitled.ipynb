{
 "cells": [
  {
   "cell_type": "code",
   "execution_count": 1,
   "id": "7f6faff6-0a53-4f1d-8058-8c992b96070e",
   "metadata": {},
   "outputs": [
    {
     "name": "stdout",
     "output_type": "stream",
     "text": [
      "[['Animal Farm', 'George Orwell', 'http://images.amazon.com/images/P/0451526341.01.MZZZZZZZ.jpg'], ['Brave New World', 'Aldous Huxley', 'http://images.amazon.com/images/P/0060809833.01.MZZZZZZZ.jpg'], ['The Cigarette Girl: A Novel', 'Carol Wolper', 'http://images.amazon.com/images/P/1573221376.01.MZZZZZZZ.jpg'], ['We', 'Yevgeny Zamyatin', 'http://images.amazon.com/images/P/0380633132.01.MZZZZZZZ.jpg']]\n"
     ]
    }
   ],
   "source": [
    "import numpy as np\n",
    "import pandas as pd\n",
    "from scipy.sparse import csr_matrix\n",
    "from sklearn.metrics.pairwise import cosine_similarity\n",
    "import pickle\n",
    "\n",
    "# Load Data with dtype specification\n",
    "books = pd.read_csv('Books.csv', dtype={'column_name': str}, low_memory=False)\n",
    "ratings = pd.read_csv('Ratings.csv')\n",
    "users = pd.read_csv('Users.csv')\n",
    "\n",
    "# Reduce dataset size by filtering out users and books with few ratings\n",
    "ratings_filtered = ratings.groupby('User-ID').filter(lambda x: len(x) >= 5)\n",
    "books_filtered = ratings_filtered.groupby('ISBN').filter(lambda x: len(x) >= 5)\n",
    "\n",
    "# Merge Data\n",
    "df = pd.merge(books_filtered, books, on='ISBN')\n",
    "\n",
    "# Create Pivot Table with reduced dataset\n",
    "pt = df.pivot_table(index='Book-Title', columns='User-ID', values='Book-Rating', aggfunc='mean')\n",
    "pt.fillna(0, inplace=True)\n",
    "\n",
    "# Convert Pivot Table to Sparse Matrix\n",
    "pt_sparse = csr_matrix(pt.values)\n",
    "\n",
    "# Compute Cosine Similarity using Sparse Matrices\n",
    "similarity_scores = cosine_similarity(pt_sparse)\n",
    "\n",
    "# Recommendation Function\n",
    "def recommend(book_name):\n",
    "    try:\n",
    "        index = np.where(pt.index == book_name)[0][0]\n",
    "        similar_items = sorted(list(enumerate(similarity_scores[index])), key=lambda x: x[1], reverse=True)[1:5]\n",
    "        \n",
    "        data = []\n",
    "        for i in similar_items:\n",
    "            item = []\n",
    "            temp_df = books[books['Book-Title'] == pt.index[i[0]]]\n",
    "            item.extend(list(temp_df.drop_duplicates('Book-Title')['Book-Title'].values))\n",
    "            item.extend(list(temp_df.drop_duplicates('Book-Title')['Book-Author'].values))\n",
    "            item.extend(list(temp_df.drop_duplicates('Book-Title')['Image-URL-M'].values))\n",
    "            data.append(item)\n",
    "        \n",
    "        return data\n",
    "    except IndexError:\n",
    "        return []\n",
    "\n",
    "# Test the Recommendation Function\n",
    "print(recommend('1984'))\n",
    "\n",
    "# Save Data with Pickle\n",
    "pickle.dump(pt_sparse, open('pt.pkl', 'wb'))\n",
    "pickle.dump(books, open('books.pkl', 'wb'))\n",
    "pickle.dump(similarity_scores, open('similarity_scores.pkl', 'wb'))\n"
   ]
  }
 ],
 "metadata": {
  "kernelspec": {
   "display_name": "Python 3 (ipykernel)",
   "language": "python",
   "name": "python3"
  },
  "language_info": {
   "codemirror_mode": {
    "name": "ipython",
    "version": 3
   },
   "file_extension": ".py",
   "mimetype": "text/x-python",
   "name": "python",
   "nbconvert_exporter": "python",
   "pygments_lexer": "ipython3",
   "version": "3.12.4"
  }
 },
 "nbformat": 4,
 "nbformat_minor": 5
}
